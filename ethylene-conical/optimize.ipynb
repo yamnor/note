{
  "nbformat": 4,
  "nbformat_minor": 0,
  "metadata": {
    "colab": {
      "name": "optimize.ipynb",
      "provenance": [],
      "authorship_tag": "ABX9TyNB4hVveChwbi7++6Zt/BfC",
      "include_colab_link": true
    },
    "kernelspec": {
      "name": "python3",
      "display_name": "Python 3"
    },
    "language_info": {
      "name": "python"
    }
  },
  "cells": [
    {
      "cell_type": "markdown",
      "metadata": {
        "id": "view-in-github",
        "colab_type": "text"
      },
      "source": [
        "<a href=\"https://colab.research.google.com/github/yamnor/yamlab-note/blob/main/ethylene-conical/optimize.ipynb\" target=\"_parent\"><img src=\"https://colab.research.google.com/assets/colab-badge.svg\" alt=\"Open In Colab\"/></a>"
      ]
    },
    {
      "cell_type": "markdown",
      "source": [
        "GAMESS を用いて基底状態の構造最適化をおこなったときの出力ファイル（optimize.log）を読み取って、最適化の過程で分子の全エネルギーがどのように変化するのかを調べます。"
      ],
      "metadata": {
        "id": "cv04yLuOZhE_"
      }
    },
    {
      "cell_type": "code",
      "source": [
        "from matplotlib import pyplot as plt"
      ],
      "metadata": {
        "id": "rPBOlP2mWhoc"
      },
      "execution_count": 1,
      "outputs": []
    },
    {
      "cell_type": "code",
      "source": [
        "energy = [float(line.split()[3]) for line in open('optimize.log', 'r').readlines() if ' ENERGY= ' in line]"
      ],
      "metadata": {
        "id": "Yeq6K5PnWM5o"
      },
      "execution_count": 2,
      "outputs": []
    },
    {
      "cell_type": "code",
      "source": [
        "energy = [(x - energy[0]) * 627.5094 for x in energy] # エネルギーの単位を au から kcal/mol に変換します"
      ],
      "metadata": {
        "id": "AXGzDyZnXeGz"
      },
      "execution_count": 3,
      "outputs": []
    },
    {
      "cell_type": "code",
      "source": [
        "step = list(range(len(energy)))\n",
        "fig, ax = plt.subplots()\n",
        "ax.plot(step, energy)\n",
        "ax.set_xlabel(\"Step\")\n",
        "ax.set_ylabel(\"Energy [kcal/mol]\")\n",
        "plt.show()"
      ],
      "metadata": {
        "id": "SbFbuGDhW4T2",
        "outputId": "f35718d8-4b6a-4e5a-96eb-7c69fb07e85b",
        "colab": {
          "base_uri": "https://localhost:8080/",
          "height": 279
        }
      },
      "execution_count": 4,
      "outputs": [
        {
          "output_type": "display_data",
          "data": {
            "image/png": "[encoded data removed]",
            "text/plain": [
              "<Figure size 432x288 with 1 Axes>"
            ]
          },
          "metadata": {
            "needs_background": "light"
          }
        }
      ]
    },
    {
      "cell_type": "code",
      "source": [
        ""
      ],
      "metadata": {
        "id": "3LOCdWwMePjJ"
      },
      "execution_count": null,
      "outputs": []
    }
  ]
}
