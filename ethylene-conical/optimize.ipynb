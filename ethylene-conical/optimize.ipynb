{
  "cells": [
    {
      "cell_type": "markdown",
      "metadata": {
        "colab_type": "text",
        "id": "view-in-github"
      },
      "source": [
        "<a href=\"https://colab.research.google.com/github/yamnor/yamlab-note/blob/main/ethylene-conical/optimize.ipynb\" target=\"_parent\"><img src=\"https://colab.research.google.com/assets/colab-badge.svg\" alt=\"Open In Colab\"/></a>"
      ]
    },
    {
      "cell_type": "code",
      "execution_count": 1,
      "metadata": {
        "id": "rPBOlP2mWhoc"
      },
      "outputs": [],
      "source": [
        "from matplotlib import pyplot as plt"
      ]
    },
    {
      "cell_type": "code",
      "execution_count": null,
      "metadata": {
        "id": "VuEiFuQy8UsX"
      },
      "outputs": [],
      "source": [
        "!wget \"https://raw.githubusercontent.com/yamnor/yamlab-note/main/ethylene-conical/optimize.log\""
      ]
    },
    {
      "cell_type": "code",
      "execution_count": 2,
      "metadata": {
        "id": "Yeq6K5PnWM5o"
      },
      "outputs": [],
      "source": [
        "energy = [float(line.split()[3]) for line in open('optimize.log', 'r').readlines() if ' ENERGY= ' in line]"
      ]
    },
    {
      "cell_type": "code",
      "execution_count": 3,
      "metadata": {
        "id": "AXGzDyZnXeGz"
      },
      "outputs": [],
      "source": [
        "energy = [(x - energy[0]) * 627.5094 for x in energy] # エネルギーの単位を au から kcal/mol に変換します"
      ]
    },
    {
      "cell_type": "code",
      "execution_count": 4,
      "metadata": {
        "colab": {
          "base_uri": "https://localhost:8080/",
          "height": 279
        },
        "id": "SbFbuGDhW4T2",
        "outputId": "ae3d7f11-b437-49d3-ebdf-f28a4258f4c1"
      },
      "outputs": [
        {
          "data": {
            "image/png": "[encoded data removed]",
            "text/plain": [
              "<Figure size 432x288 with 1 Axes>"
            ]
          },
          "metadata": {
            "needs_background": "light"
          },
          "output_type": "display_data"
        }
      ],
      "source": [
        "step = list(range(len(energy)))\n",
        "fig, ax = plt.subplots()\n",
        "ax.plot(step, energy)\n",
        "ax.set_xlabel(\"Step\")\n",
        "ax.set_ylabel(\"Energy [kcal/mol]\")\n",
        "plt.show()"
      ]
    }
  ],
  "metadata": {
    "colab": {
      "authorship_tag": "ABX9TyOqLr0PoFCTG2+KTWejySe/",
      "include_colab_link": true,
      "name": "optimize.ipynb",
      "provenance": []
    },
    "kernelspec": {
      "display_name": "Python 3",
      "name": "python3"
    },
    "language_info": {
      "codemirror_mode": {
        "name": "ipython",
        "version": 3
      },
      "file_extension": ".py",
      "mimetype": "text/x-python",
      "name": "python",
      "nbconvert_exporter": "python",
      "pygments_lexer": "ipython3",
      "version": "3.9.10"
    }
  },
  "nbformat": 4,
  "nbformat_minor": 0
}
