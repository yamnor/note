{
  "nbformat": 4,
  "nbformat_minor": 0,
  "metadata": {
    "colab": {
      "name": "conical-spinflip.ipynb",
      "provenance": [],
      "authorship_tag": "ABX9TyNQbsh21313U1efTwxipupz",
      "include_colab_link": true
    },
    "kernelspec": {
      "name": "python3",
      "display_name": "Python 3"
    },
    "language_info": {
      "name": "python"
    }
  },
  "cells": [
    {
      "cell_type": "markdown",
      "metadata": {
        "id": "view-in-github",
        "colab_type": "text"
      },
      "source": [
        "<a href=\"https://colab.research.google.com/github/yamnor/yamlab-note/blob/main/ethylene-conical/conical-excite.ipynb\" target=\"_parent\"><img src=\"https://colab.research.google.com/assets/colab-badge.svg\" alt=\"Open In Colab\"/></a>"
      ]
    },
    {
      "cell_type": "code",
      "source": [
        "from matplotlib import pyplot as plt"
      ],
      "metadata": {
        "id": "rPBOlP2mWhoc"
      },
      "execution_count": 6,
      "outputs": []
    },
    {
      "cell_type": "code",
      "source": [
        "!wget https://raw.githubusercontent.com/yamnor/yamlab-note/main/ethylene-conical/conical-excite.log"
      ],
      "metadata": {
        "id": "Vjh1RBS1vzZh",
        "outputId": "51815b72-6fe9-42af-8a96-2bd0878c67cb",
        "colab": {
          "base_uri": "https://localhost:8080/"
        }
      },
      "execution_count": 8,
      "outputs": [
        {
          "output_type": "stream",
          "name": "stdout",
          "text": [
            "--2022-03-11 02:12:03--  https://raw.githubusercontent.com/yamnor/yamlab-note/main/ethylene-conical/conical-excite.log\n",
            "Resolving raw.githubusercontent.com (raw.githubusercontent.com)... 185.199.108.133, 185.199.109.133, 185.199.110.133, ...\n",
            "Connecting to raw.githubusercontent.com (raw.githubusercontent.com)|185.199.108.133|:443... connected.\n",
            "HTTP request sent, awaiting response... 200 OK\n",
            "Length: 638332 (623K) [text/plain]\n",
            "Saving to: ‘conical-excite.log’\n",
            "\n",
            "conical-excite.log  100%[===================>] 623.37K  --.-KB/s    in 0.02s   \n",
            "\n",
            "2022-03-11 02:12:04 (33.3 MB/s) - ‘conical-excite.log’ saved [638332/638332]\n",
            "\n"
          ]
        }
      ]
    },
    {
      "cell_type": "code",
      "source": [
        "energy = []\n",
        "for n in range(4):\n",
        "  energy.append([float(line.split()[2]) for line in open('conical-excite.log', 'r').readlines() if ' %d  A '%(n) in line])"
      ],
      "metadata": {
        "id": "8CGdgqV0Wcno"
      },
      "execution_count": 9,
      "outputs": []
    },
    {
      "cell_type": "code",
      "source": [
        "step = list(range(len(energy[0])))\n",
        "fig, ax = plt.subplots()\n",
        "ax.plot(step, energy[0], label=\"S0\")\n",
        "ax.plot(step, energy[1], label=\"S1\")\n",
        "ax.set_xlabel(\"Step\")\n",
        "ax.set_ylabel(\"Energy [au]\")\n",
        "ax.legend()\n",
        "plt.show()"
      ],
      "metadata": {
        "colab": {
          "base_uri": "https://localhost:8080/",
          "height": 279
        },
        "id": "nH0DbFvTVdxJ",
        "outputId": "db789f21-998a-4f53-a817-afafb66ff96b"
      },
      "execution_count": 10,
      "outputs": [
        {
          "output_type": "display_data",
          "data": {
            "image/png": "[encoded data removed]",
            "text/plain": [
              "<Figure size 432x288 with 1 Axes>"
            ]
          },
          "metadata": {
            "needs_background": "light"
          }
        }
      ]
    }
  ]
}